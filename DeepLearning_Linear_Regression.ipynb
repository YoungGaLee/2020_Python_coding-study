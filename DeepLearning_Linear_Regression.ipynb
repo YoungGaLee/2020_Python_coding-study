{
  "nbformat": 4,
  "nbformat_minor": 0,
  "metadata": {
    "colab": {
      "name": "DeepLearning_Linear_Regression.ipynb",
      "provenance": [],
      "collapsed_sections": [],
      "authorship_tag": "ABX9TyM/7XefU+tv2WZzeSzk69ST",
      "include_colab_link": true
    },
    "kernelspec": {
      "name": "python3",
      "display_name": "Python 3"
    }
  },
  "cells": [
    {
      "cell_type": "markdown",
      "metadata": {
        "id": "view-in-github",
        "colab_type": "text"
      },
      "source": [
        "<a href=\"https://colab.research.google.com/github/YoungGaLee/2020_Python_coding-study/blob/master/DeepLearning_Linear_Regression.ipynb\" target=\"_parent\"><img src=\"https://colab.research.google.com/assets/colab-badge.svg\" alt=\"Open In Colab\"/></a>"
      ]
    },
    {
      "cell_type": "markdown",
      "metadata": {
        "id": "FsWJx7dey3Jk",
        "colab_type": "text"
      },
      "source": [
        "## **1. 필요한 모듈 선언**\n",
        "---"
      ]
    },
    {
      "cell_type": "code",
      "metadata": {
        "id": "IRVg-P-4y1fI",
        "colab_type": "code",
        "colab": {}
      },
      "source": [
        "import torch\n",
        "import torch.nn as nn\n",
        "import torch.nn.functional as F\n",
        "import torch.optim as optim\n",
        "import numpy as np"
      ],
      "execution_count": null,
      "outputs": []
    },
    {
      "cell_type": "markdown",
      "metadata": {
        "id": "QJB1w6wXzlVb",
        "colab_type": "text"
      },
      "source": [
        "## **2. 시드 고정**\n",
        "---"
      ]
    },
    {
      "cell_type": "code",
      "metadata": {
        "id": "uvhpDRfzzkpk",
        "colab_type": "code",
        "colab": {}
      },
      "source": [
        "torch.manual_seed(42)\n",
        "np.random.seed(42)"
      ],
      "execution_count": null,
      "outputs": []
    },
    {
      "cell_type": "markdown",
      "metadata": {
        "id": "freLCP-Qz8CC",
        "colab_type": "text"
      },
      "source": [
        "## **3. 데이터셋 로드 & 전처리**\n",
        "---\n",
        "\n"
      ]
    },
    {
      "cell_type": "markdown",
      "metadata": {
        "id": "Vg905d_90bLS",
        "colab_type": "text"
      },
      "source": [
        "####**(1) 데이터셋 로드**"
      ]
    },
    {
      "cell_type": "code",
      "metadata": {
        "id": "FQ_WpUs2z9k1",
        "colab_type": "code",
        "colab": {}
      },
      "source": [
        "dataset_path = '/content/drive/My Drive/AI_datasets/data-01-test-score.csv'\n",
        "\n",
        "dataset = np.loadtxt(dataset_path, delimiter=',', dtype=np.float32)\n",
        "# delimiter: csv파일의 경우 데이터 간 구분을 쉼표(,)로 하므로 delimiter을 ','로 지정함"
      ],
      "execution_count": null,
      "outputs": []
    },
    {
      "cell_type": "markdown",
      "metadata": {
        "id": "eikY3yIH0-JB",
        "colab_type": "text"
      },
      "source": [
        "#### **(2) 데이터 셔플**"
      ]
    },
    {
      "cell_type": "code",
      "metadata": {
        "id": "lQzV3nwh1Agj",
        "colab_type": "code",
        "colab": {}
      },
      "source": [
        "np.random.shuffle(dataset)"
      ],
      "execution_count": null,
      "outputs": []
    },
    {
      "cell_type": "markdown",
      "metadata": {
        "id": "ODzBAz-81I3y",
        "colab_type": "text"
      },
      "source": [
        "#### **(3) x 데이터와 y 데이터 구분**"
      ]
    },
    {
      "cell_type": "markdown",
      "metadata": {
        "id": "EXAZzOed1brt",
        "colab_type": "text"
      },
      "source": [
        "![데이터셋_구조](https://user-images.githubusercontent.com/42428487/72907373-1b800a00-3d77-11ea-8a06-1b8d4e0fe211.png)\n",
        "▲ data-01-test-score.csv 의 데이터셋 구조"
      ]
    },
    {
      "cell_type": "code",
      "metadata": {
        "id": "1iPX-CHu1Hu5",
        "colab_type": "code",
        "colab": {}
      },
      "source": [
        "x_data = dataset[:, 0:-1]\n",
        "y_data = dataset[:, [-1]]"
      ],
      "execution_count": null,
      "outputs": []
    },
    {
      "cell_type": "code",
      "metadata": {
        "id": "o6epmcpr1SU5",
        "colab_type": "code",
        "colab": {
          "base_uri": "https://localhost:8080/",
          "height": 52
        },
        "outputId": "3bfd8e2a-8e19-46e4-aee5-f10dd69e5b2b"
      },
      "source": [
        "print('x_data shape: ', x_data.shape)\n",
        "print('y_data shape: ', y_data.shape)"
      ],
      "execution_count": null,
      "outputs": [
        {
          "output_type": "stream",
          "text": [
            "x_data shape:  (25, 3)\n",
            "y_data shape:  (25, 1)\n"
          ],
          "name": "stdout"
        }
      ]
    },
    {
      "cell_type": "markdown",
      "metadata": {
        "id": "9Xa-Mupl6M4B",
        "colab_type": "text"
      },
      "source": [
        "#### **(4) 데이터 텐서(tensor)로 변환**"
      ]
    },
    {
      "cell_type": "code",
      "metadata": {
        "id": "dE4e5o9l6nLY",
        "colab_type": "code",
        "colab": {
          "base_uri": "https://localhost:8080/",
          "height": 34
        },
        "outputId": "d97b1a09-9219-4dbe-bb68-8e389cc626a0"
      },
      "source": [
        "print('tensor 변환 전:', x_data[0, :])"
      ],
      "execution_count": null,
      "outputs": [
        {
          "output_type": "stream",
          "text": [
            "tensor 변환 전: [87. 79. 90.]\n"
          ],
          "name": "stdout"
        }
      ]
    },
    {
      "cell_type": "code",
      "metadata": {
        "id": "LvDlqRKC1UF1",
        "colab_type": "code",
        "colab": {}
      },
      "source": [
        "x_train = torch.FloatTensor(x_data)\n",
        "y_train = torch.FloatTensor(y_data)"
      ],
      "execution_count": null,
      "outputs": []
    },
    {
      "cell_type": "code",
      "metadata": {
        "id": "Oi_oGtlw6iPS",
        "colab_type": "code",
        "colab": {
          "base_uri": "https://localhost:8080/",
          "height": 34
        },
        "outputId": "9506363f-32b4-4fd7-8f3f-65a79a57ed0c"
      },
      "source": [
        "print('tensor 변환 후:', x_train[0, :])"
      ],
      "execution_count": null,
      "outputs": [
        {
          "output_type": "stream",
          "text": [
            "tensor 변환 후: tensor([87., 79., 90.])\n"
          ],
          "name": "stdout"
        }
      ]
    },
    {
      "cell_type": "code",
      "metadata": {
        "id": "4SPib9_A7BLy",
        "colab_type": "code",
        "colab": {
          "base_uri": "https://localhost:8080/",
          "height": 52
        },
        "outputId": "ce75f01d-59b0-41c6-ba8d-0872fc81dbf5"
      },
      "source": [
        "print('x_data shape: ', x_train.shape)\n",
        "print('y_data shape: ', y_train.shape)"
      ],
      "execution_count": null,
      "outputs": [
        {
          "output_type": "stream",
          "text": [
            "x_data shape:  torch.Size([25, 3])\n",
            "y_data shape:  torch.Size([25, 1])\n"
          ],
          "name": "stdout"
        }
      ]
    },
    {
      "cell_type": "markdown",
      "metadata": {
        "id": "XYPcCXaC7KE1",
        "colab_type": "text"
      },
      "source": [
        "## **4. 모델 생성**\n",
        "---"
      ]
    },
    {
      "cell_type": "markdown",
      "metadata": {
        "id": "XHndAvXx8kZk",
        "colab_type": "text"
      },
      "source": [
        "#### **(1) 모델 생성** \n",
        "(현재 모델 구조: 레이어 1개)"
      ]
    },
    {
      "cell_type": "code",
      "metadata": {
        "id": "jG6L8Nyl7Kmf",
        "colab_type": "code",
        "colab": {}
      },
      "source": [
        "model = nn.Linear(3, 1, bias=True)"
      ],
      "execution_count": null,
      "outputs": []
    },
    {
      "cell_type": "markdown",
      "metadata": {
        "id": "YhX7sQc18qaT",
        "colab_type": "text"
      },
      "source": [
        "#### **(2) 모델의 weight값 초기화**"
      ]
    },
    {
      "cell_type": "code",
      "metadata": {
        "id": "KpWhY8BT8i_6",
        "colab_type": "code",
        "colab": {
          "base_uri": "https://localhost:8080/",
          "height": 52
        },
        "outputId": "8b261cbd-064f-4973-b9f8-bfea5401724c"
      },
      "source": [
        "# xavier initialization\n",
        "nn.init.xavier_uniform_(model.weight)"
      ],
      "execution_count": null,
      "outputs": [
        {
          "output_type": "execute_result",
          "data": {
            "text/plain": [
              "Parameter containing:\n",
              "tensor([[-0.2683,  0.2471, -0.5963]], requires_grad=True)"
            ]
          },
          "metadata": {
            "tags": []
          },
          "execution_count": 92
        }
      ]
    },
    {
      "cell_type": "markdown",
      "metadata": {
        "id": "ZRzbwHwr89_a",
        "colab_type": "text"
      },
      "source": [
        "## **5. 모델 학습**\n",
        "---"
      ]
    },
    {
      "cell_type": "markdown",
      "metadata": {
        "id": "sDQFlGqR9CQt",
        "colab_type": "text"
      },
      "source": [
        "#### **(1) optimizer 및 cost 함수 선언**"
      ]
    },
    {
      "cell_type": "code",
      "metadata": {
        "id": "aHg6srsu9Avb",
        "colab_type": "code",
        "colab": {}
      },
      "source": [
        "# optimizer\n",
        "learning_rate = 1e-5\n",
        "optimizer = optim.SGD(model.parameters(), lr=learning_rate)\n",
        "\n",
        "# cost function (loss function)\n",
        "criterion = nn.MSELoss()"
      ],
      "execution_count": null,
      "outputs": []
    },
    {
      "cell_type": "markdown",
      "metadata": {
        "id": "ihZ9CGtv-_Xx",
        "colab_type": "text"
      },
      "source": [
        "#### **(2) 모델 학습**"
      ]
    },
    {
      "cell_type": "code",
      "metadata": {
        "id": "QCF5fJK1_BE5",
        "colab_type": "code",
        "colab": {}
      },
      "source": [
        "# epoch: 전체 데이터를 몇 번 학습할 것인지\n",
        "nb_epochs = 1000"
      ],
      "execution_count": null,
      "outputs": []
    },
    {
      "cell_type": "code",
      "metadata": {
        "id": "y5Cbcdeu_Mjx",
        "colab_type": "code",
        "colab": {
          "base_uri": "https://localhost:8080/",
          "height": 439
        },
        "outputId": "5d2fc149-3417-4968-9d76-a3e1867dc3d7"
      },
      "source": [
        "# 학습 시작\n",
        "print('train start !! \\n')\n",
        "\n",
        "for epoch in range(nb_epochs + 1):\n",
        "    \n",
        "    # 모델 예측\n",
        "    prediction = model(x_train)\n",
        "\n",
        "    # cost (loss) 계산\n",
        "    cost = criterion(prediction, y_train)\n",
        "\n",
        "    # cost로 모델 업데이트\n",
        "    optimizer.zero_grad()\n",
        "    cost.backward()\n",
        "    optimizer.step()\n",
        "\n",
        "    # 100 epoch 마다 로그 출력\n",
        "    if epoch % 100 == 0:\n",
        "        print('Epoch {:5d}/{} \\t Cost(Loss): {:.6f}\\n'.format(epoch, nb_epochs, cost.item()))"
      ],
      "execution_count": null,
      "outputs": [
        {
          "output_type": "stream",
          "text": [
            "train start !! \n",
            "\n",
            "Epoch     0/1000 \t Cost(Loss): 45735.300781\n",
            "\n",
            "Epoch   100/1000 \t Cost(Loss): 27.826517\n",
            "\n",
            "Epoch   200/1000 \t Cost(Loss): 26.013189\n",
            "\n",
            "Epoch   300/1000 \t Cost(Loss): 24.352787\n",
            "\n",
            "Epoch   400/1000 \t Cost(Loss): 22.832438\n",
            "\n",
            "Epoch   500/1000 \t Cost(Loss): 21.440243\n",
            "\n",
            "Epoch   600/1000 \t Cost(Loss): 20.165377\n",
            "\n",
            "Epoch   700/1000 \t Cost(Loss): 18.997887\n",
            "\n",
            "Epoch   800/1000 \t Cost(Loss): 17.928741\n",
            "\n",
            "Epoch   900/1000 \t Cost(Loss): 16.949549\n",
            "\n",
            "Epoch  1000/1000 \t Cost(Loss): 16.052778\n",
            "\n"
          ],
          "name": "stdout"
        }
      ]
    }
  ]
}
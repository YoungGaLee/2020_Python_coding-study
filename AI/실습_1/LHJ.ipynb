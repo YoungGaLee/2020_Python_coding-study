{
  "nbformat": 4,
  "nbformat_minor": 0,
  "metadata": {
    "colab": {
      "name": "LHJ.ipynb",
      "provenance": []
    },
    "kernelspec": {
      "name": "python3",
      "display_name": "Python 3"
    }
  },
  "cells": [
    {
      "cell_type": "code",
      "metadata": {
        "id": "kkoMXnp3LueX",
        "colab_type": "code",
        "colab": {}
      },
      "source": [
        "import torch\n",
        "import torch.nn as nn\n",
        "import torch.optim as optim\n",
        "import numpy as np"
      ],
      "execution_count": 1,
      "outputs": []
    },
    {
      "cell_type": "code",
      "metadata": {
        "id": "LxbMhPWsMQft",
        "colab_type": "code",
        "colab": {}
      },
      "source": [
        "torch.manual_seed(1)\n",
        "np.random.seed(1)\n",
        "epoch = 20"
      ],
      "execution_count": 2,
      "outputs": []
    },
    {
      "cell_type": "code",
      "metadata": {
        "id": "k1cRei53MGHb",
        "colab_type": "code",
        "colab": {}
      },
      "source": [
        "xy = np.loadtxt('data-01-test-score.csv', delimiter=',', dtype=np.float32)\n",
        "x_data = xy[:, 0:-1]\n",
        "y_data = xy[:, [-1]]"
      ],
      "execution_count": 3,
      "outputs": []
    },
    {
      "cell_type": "code",
      "metadata": {
        "id": "ll2mcoSoMdSv",
        "colab_type": "code",
        "colab": {}
      },
      "source": [
        "x_train = torch.FloatTensor(x_data)\n",
        "y_train = torch.FloatTensor(y_data)\n",
        "\n",
        "model = nn.Linear(3,1)\n",
        "optimizer = optim.SGD(model.parameters(), lr=3e-5)\n",
        "criterion = nn.MSELoss()"
      ],
      "execution_count": 4,
      "outputs": []
    },
    {
      "cell_type": "code",
      "metadata": {
        "id": "FodbGx_yOdQC",
        "colab_type": "code",
        "colab": {
          "base_uri": "https://localhost:8080/",
          "height": 377
        },
        "outputId": "90f0fe8a-1735-4376-897e-903f245febe1"
      },
      "source": [
        "for e in range(1, epoch+1):\n",
        "    prediction = model(x_train)\n",
        "    cost = criterion(prediction, y_train)\n",
        "    optimizer.zero_grad()\n",
        "    cost.backward()\n",
        "    optimizer.step()\n",
        "    \n",
        "    print('Epoch {:4d}/{}\\tCost: {:.4f},'.format(e, epoch, cost.item()))"
      ],
      "execution_count": 5,
      "outputs": [
        {
          "output_type": "stream",
          "text": [
            "Epoch    1/20\tCost: 28693.4902,\n",
            "Epoch    2/20\tCost: 902.5485,\n",
            "Epoch    3/20\tCost: 43.2159,\n",
            "Epoch    4/20\tCost: 16.6278,\n",
            "Epoch    5/20\tCost: 15.7888,\n",
            "Epoch    6/20\tCost: 15.7460,\n",
            "Epoch    7/20\tCost: 15.7278,\n",
            "Epoch    8/20\tCost: 15.7105,\n",
            "Epoch    9/20\tCost: 15.6932,\n",
            "Epoch   10/20\tCost: 15.6759,\n",
            "Epoch   11/20\tCost: 15.6587,\n",
            "Epoch   12/20\tCost: 15.6415,\n",
            "Epoch   13/20\tCost: 15.6243,\n",
            "Epoch   14/20\tCost: 15.6072,\n",
            "Epoch   15/20\tCost: 15.5901,\n",
            "Epoch   16/20\tCost: 15.5730,\n",
            "Epoch   17/20\tCost: 15.5560,\n",
            "Epoch   18/20\tCost: 15.5390,\n",
            "Epoch   19/20\tCost: 15.5220,\n",
            "Epoch   20/20\tCost: 15.5051,\n"
          ],
          "name": "stdout"
        }
      ]
    }
  ]
}
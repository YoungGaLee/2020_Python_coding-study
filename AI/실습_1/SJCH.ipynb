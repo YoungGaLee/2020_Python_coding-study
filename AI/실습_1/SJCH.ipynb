{
  "nbformat": 4,
  "nbformat_minor": 0,
  "metadata": {
    "colab": {
      "name": "SJCH.ipynb",
      "provenance": []
    },
    "kernelspec": {
      "name": "python3",
      "display_name": "Python 3"
    }
  },
  "cells": [
    {
      "cell_type": "code",
      "metadata": {
        "id": "Tjn45oNsWs7H",
        "colab_type": "code",
        "colab": {
          "base_uri": "https://localhost:8080/",
          "height": 425
        },
        "outputId": "a6fa68c1-2ccb-4898-88c0-78cbfd51748e"
      },
      "source": [
        "from torch.utils.data import Dataset \n",
        "import torch.nn.functional as F\n",
        "import pandas as pd\n",
        "import numpy as np\n",
        "import torch.nn as nn\n",
        "import torch.optim as optim\n",
        "import torch\n",
        "\n",
        "class customDataset(Dataset):\n",
        "  def __init__(self, x, y):\n",
        "    self.x_data = x\n",
        "    self.y_data = y.reshape(-1, 1)\n",
        "\n",
        "\n",
        "  def __len__(self):\n",
        "    return len(self.x_data)\n",
        "    \n",
        "  def __getitem__(self, idx):\n",
        "    x= torch.FloatTensor(self.x_data[idx])\n",
        "    y= torch.FloatTensor(self.y_data[idx])\n",
        "\n",
        "    return x,y\n",
        "\n",
        "\n",
        "\n",
        "from torch.utils.data import DataLoader\n",
        "\n",
        "\n",
        "data=pd.read_csv('data-01-test-score.csv')\n",
        "scores=data.values\n",
        "\n",
        "\n",
        "data_x=np.array(np.delete(scores,(-1), axis=1))\n",
        "data_y=np.array(np.array(scores[:,-1]))\n",
        "print(data_x.shape,data_y.shape)\n",
        "dataset = customDataset(data_x,data_y)\n",
        "\n",
        "dataloader = DataLoader(\n",
        "    dataset,\n",
        "    batch_size=24,\n",
        "    shuffle=True,\n",
        ")\n",
        "\n",
        "model = nn.Linear(3,1)\n",
        "optimizer = optim.SGD(model.parameters(),lr = 1e-5)\n",
        "\n",
        "nb_epochs = 20\n",
        "for epoch in range(nb_epochs +1):\n",
        "  for batch_idx, samples in enumerate(dataloader):\n",
        "    x_train, y_train = samples\n",
        "\n",
        "    prediction = model(x_train)\n",
        "\n",
        "    cost = F.mse_loss(prediction, y_train)\n",
        "\n",
        "    optimizer.zero_grad()\n",
        "    cost.backward()\n",
        "    optimizer.step()\n",
        "\n",
        "    print('Epoch{:4d}/{} Batch {}/{} cost : {:.6f}'.format(epoch, \n",
        "          nb_epochs, batch_idx+1, len(dataloader), cost.item()\n",
        "    ))\n"
      ],
      "execution_count": 22,
      "outputs": [
        {
          "output_type": "stream",
          "text": [
            "(24, 3) (24,)\n",
            "Epoch   0/20 Batch 1/1 cost : 42005.578125\n",
            "Epoch   1/20 Batch 1/1 cost : 15438.993164\n",
            "Epoch   2/20 Batch 1/1 cost : 5677.695312\n",
            "Epoch   3/20 Batch 1/1 cost : 2091.124756\n",
            "Epoch   4/20 Batch 1/1 cost : 773.319153\n",
            "Epoch   5/20 Batch 1/1 cost : 289.120544\n",
            "Epoch   6/20 Batch 1/1 cost : 111.212013\n",
            "Epoch   7/20 Batch 1/1 cost : 45.842625\n",
            "Epoch   8/20 Batch 1/1 cost : 21.823280\n",
            "Epoch   9/20 Batch 1/1 cost : 12.997078\n",
            "Epoch  10/20 Batch 1/1 cost : 9.753284\n",
            "Epoch  11/20 Batch 1/1 cost : 8.560609\n",
            "Epoch  12/20 Batch 1/1 cost : 8.121589\n",
            "Epoch  13/20 Batch 1/1 cost : 7.959486\n",
            "Epoch  14/20 Batch 1/1 cost : 7.899107\n",
            "Epoch  15/20 Batch 1/1 cost : 7.876131\n",
            "Epoch  16/20 Batch 1/1 cost : 7.866869\n",
            "Epoch  17/20 Batch 1/1 cost : 7.862694\n",
            "Epoch  18/20 Batch 1/1 cost : 7.860338\n",
            "Epoch  19/20 Batch 1/1 cost : 7.858678\n",
            "Epoch  20/20 Batch 1/1 cost : 7.857285\n"
          ],
          "name": "stdout"
        }
      ]
    },
    {
      "cell_type": "code",
      "metadata": {
        "id": "kN5UsUhd5JX9",
        "colab_type": "code",
        "colab": {}
      },
      "source": [
        ""
      ],
      "execution_count": null,
      "outputs": []
    },
    {
      "cell_type": "code",
      "metadata": {
        "id": "yqbB52mgWuQT",
        "colab_type": "code",
        "colab": {
          "base_uri": "https://localhost:8080/",
          "height": 444
        },
        "outputId": "14dab319-b534-4dc6-a6b6-219e6541bb97"
      },
      "source": [
        "x_train = torch.FloatTensor([[73, 80, 75],\n",
        "                            [93, 88, 93],\n",
        "                            [89, 91, 90],\n",
        "                            [96, 98, 100],\n",
        "                            [73, 66, 70],\n",
        "                            [53, 46, 55],\n",
        "                            [69, 74, 77], \n",
        "                            [47, 56, 60],\n",
        "                            [87, 79, 90],\n",
        "                            [79, 70, 88],\n",
        "                            [69, 70, 88],\n",
        "                            [70, 65, 74],\n",
        "                            [93, 95, 91],\n",
        "                            [79, 80, 73],\n",
        "                            [70, 73, 78],\n",
        "                            [93, 89, 96],\n",
        "                            [78, 75, 68],\n",
        "                            [81, 90, 93],\n",
        "                            [88, 92, 86],\n",
        "                            [78, 83, 77],\n",
        "                            [82, 86, 90],\n",
        "                            [86, 82, 89],\n",
        "                            [78, 83, 85],\n",
        "                            [76, 83, 71]])\n",
        "y_tarin = torch.FloatTensor([[152],[185],[180],[196],[142],[101],[149],[115],[175],\n",
        "                             [164],[141],[141],[184],[152],[148],[192],[147],[183],\n",
        "                             [177],[159],[177],[175],[175],[149],[192]])\n",
        "\n",
        "\n",
        "w = torch.zeros((3,1), requires_grad = True)\n",
        "b = torch.zeros(1, requires_grad = True)\n",
        "\n",
        "optimizer = optim.SGD([w, b], lr=1e-5)\n",
        "\n",
        "nb_epochs = 20\n",
        "for epoch in range(nb_epochs +1):\n",
        "  \n",
        "  hypothesis = x_train.matmul(w) + b\n",
        "\n",
        "  cost = torch.mean((hypothesis - y_train) ** 2)\n",
        "\n",
        "  optimizer.zero_grad()\n",
        "  cost.backward()\n",
        "  optimizer.step()\n",
        "\n",
        "  print('Epoch {:4d}/{} Cost: {:.6f}'.format(\n",
        "      epoch, nb_epochs, cost.item()\n",
        "  ))"
      ],
      "execution_count": 28,
      "outputs": [
        {
          "output_type": "stream",
          "text": [
            "24\n",
            "24\n",
            "Epoch    0/20 Cost: 26966.458984\n",
            "Epoch    1/20 Cost: 10738.184570\n",
            "Epoch    2/20 Cost: 4654.920410\n",
            "Epoch    3/20 Cost: 2374.571045\n",
            "Epoch    4/20 Cost: 1519.763184\n",
            "Epoch    5/20 Cost: 1199.328735\n",
            "Epoch    6/20 Cost: 1079.206543\n",
            "Epoch    7/20 Cost: 1034.172241\n",
            "Epoch    8/20 Cost: 1017.285400\n",
            "Epoch    9/20 Cost: 1010.949768\n",
            "Epoch   10/20 Cost: 1008.569336\n",
            "Epoch   11/20 Cost: 1007.671387\n",
            "Epoch   12/20 Cost: 1007.329102\n",
            "Epoch   13/20 Cost: 1007.195374\n",
            "Epoch   14/20 Cost: 1007.139709\n",
            "Epoch   15/20 Cost: 1007.113342\n",
            "Epoch   16/20 Cost: 1007.097900\n",
            "Epoch   17/20 Cost: 1007.086426\n",
            "Epoch   18/20 Cost: 1007.076843\n",
            "Epoch   19/20 Cost: 1007.067627\n",
            "Epoch   20/20 Cost: 1007.058533\n"
          ],
          "name": "stdout"
        }
      ]
    },
    {
      "cell_type": "code",
      "metadata": {
        "id": "RFFRv7b7bMI_",
        "colab_type": "code",
        "colab": {}
      },
      "source": [
        "import torch.nn.fuchtional as F\n",
        "\n",
        "cost = F.mse_loss(prediction, y_train)\n",
        "\n",
        "model = MultiariateLinearRegressionModel()\n",
        "\n",
        "hypothesis = model(x_train)"
      ],
      "execution_count": null,
      "outputs": []
    }
  ]
}
{
  "nbformat": 4,
  "nbformat_minor": 0,
  "metadata": {
    "colab": {
      "name": "2020_여름인공지능스터디_실습1",
      "provenance": []
    },
    "kernelspec": {
      "name": "python3",
      "display_name": "Python 3"
    }
  },
  "cells": [
    {
      "cell_type": "code",
      "metadata": {
        "id": "FldYBeO2K78V",
        "colab_type": "code",
        "colab": {
          "base_uri": "https://localhost:8080/",
          "height": 221
        },
        "outputId": "48ded378-97f6-472d-f562-7b333505f3d0"
      },
      "source": [
        "import torch\n",
        "import numpy as np\n",
        "import torch.optim as optim\n",
        "import torch.nn as nn\n",
        "\n",
        "class make_matmul(nn.Module):\n",
        "  def __init__ (self):\n",
        "    super().__init__()\n",
        "    self.linear = nn.Linear(3,1)\n",
        "    \n",
        "  def forward(self,X) : \n",
        "    return self.linear(X)\n",
        "\n",
        "\n",
        "\n",
        "Data_loader = np.loadtxt('data-01-test-score.csv', delimiter=',', dtype=np.float32)\n",
        "\n",
        "nb_epochs = 1000 \n",
        "learning_rate = 0.00001 #1e-5\n",
        "\n",
        "\n",
        "X_np = Data_loader[:,:-1]\n",
        "Y_np = Data_loader[:,[-1]]\n",
        "\n",
        "X_tensor = torch.FloatTensor(X_np)\n",
        "Y_tensor = torch.FloatTensor(Y_np)\n",
        "\n",
        "\n",
        "\n",
        "\n",
        "model = make_matmul()\n",
        "optimizer = optim.SGD(model.parameters(), lr = learning_rate)\n",
        "\n",
        "\n",
        "for epoch in range(nb_epochs + 1): \n",
        "\n",
        "    hypothesis = model(X_tensor) \n",
        "\n",
        "    cost = torch.mean((hypothesis - Y_tensor) ** 2)\n",
        "    \n",
        "    optimizer.zero_grad() \n",
        "    cost.backward()\n",
        "    optimizer.step() \n",
        "\n",
        "    \n",
        "    if epoch % 100 == 0:\n",
        "        print('Epoch {:4d}/{} Cost: {:.6f}'.format(epoch, nb_epochs,cost.item()))"
      ],
      "execution_count": 4,
      "outputs": [
        {
          "output_type": "stream",
          "text": [
            "Epoch    0/1000 Cost: 34504.691406\n",
            "Epoch  100/1000 Cost: 7.238632\n",
            "Epoch  200/1000 Cost: 7.138559\n",
            "Epoch  300/1000 Cost: 7.046919\n",
            "Epoch  400/1000 Cost: 6.962987\n",
            "Epoch  500/1000 Cost: 6.886104\n",
            "Epoch  600/1000 Cost: 6.815691\n",
            "Epoch  700/1000 Cost: 6.751181\n",
            "Epoch  800/1000 Cost: 6.692096\n",
            "Epoch  900/1000 Cost: 6.637974\n",
            "Epoch 1000/1000 Cost: 6.588390\n"
          ],
          "name": "stdout"
        }
      ]
    },
    {
      "cell_type": "code",
      "metadata": {
        "id": "wmRPM1GrVB3h",
        "colab_type": "code",
        "colab": {}
      },
      "source": [
        ""
      ],
      "execution_count": null,
      "outputs": []
    }
  ]
}
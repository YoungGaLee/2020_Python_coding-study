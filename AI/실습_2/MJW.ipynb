{
  "nbformat": 4,
  "nbformat_minor": 0,
  "metadata": {
    "colab": {
      "name": "DeepLearning_Basic_MNIST.ipynb",
      "provenance": [],
      "collapsed_sections": []
    },
    "kernelspec": {
      "name": "python3",
      "display_name": "Python 3"
    },
    "widgets": {
      "application/vnd.jupyter.widget-state+json": {
        "faa2b40605ae4095a6c72112cf54a148": {
          "model_module": "@jupyter-widgets/controls",
          "model_name": "HBoxModel",
          "state": {
            "_view_name": "HBoxView",
            "_dom_classes": [],
            "_model_name": "HBoxModel",
            "_view_module": "@jupyter-widgets/controls",
            "_model_module_version": "1.5.0",
            "_view_count": null,
            "_view_module_version": "1.5.0",
            "box_style": "",
            "layout": "IPY_MODEL_0c4b411b8d93497485233a72915cf50a",
            "_model_module": "@jupyter-widgets/controls",
            "children": [
              "IPY_MODEL_252d795f32484ff79104d2bcdf43cfc3",
              "IPY_MODEL_348f533a641e4f99a727066c4e12799a"
            ]
          }
        },
        "0c4b411b8d93497485233a72915cf50a": {
          "model_module": "@jupyter-widgets/base",
          "model_name": "LayoutModel",
          "state": {
            "_view_name": "LayoutView",
            "grid_template_rows": null,
            "right": null,
            "justify_content": null,
            "_view_module": "@jupyter-widgets/base",
            "overflow": null,
            "_model_module_version": "1.2.0",
            "_view_count": null,
            "flex_flow": null,
            "width": null,
            "min_width": null,
            "border": null,
            "align_items": null,
            "bottom": null,
            "_model_module": "@jupyter-widgets/base",
            "top": null,
            "grid_column": null,
            "overflow_y": null,
            "overflow_x": null,
            "grid_auto_flow": null,
            "grid_area": null,
            "grid_template_columns": null,
            "flex": null,
            "_model_name": "LayoutModel",
            "justify_items": null,
            "grid_row": null,
            "max_height": null,
            "align_content": null,
            "visibility": null,
            "align_self": null,
            "height": null,
            "min_height": null,
            "padding": null,
            "grid_auto_rows": null,
            "grid_gap": null,
            "max_width": null,
            "order": null,
            "_view_module_version": "1.2.0",
            "grid_template_areas": null,
            "object_position": null,
            "object_fit": null,
            "grid_auto_columns": null,
            "margin": null,
            "display": null,
            "left": null
          }
        },
        "252d795f32484ff79104d2bcdf43cfc3": {
          "model_module": "@jupyter-widgets/controls",
          "model_name": "FloatProgressModel",
          "state": {
            "_view_name": "ProgressView",
            "style": "IPY_MODEL_e67822064f8c4e2b9d9d16cfbcad8e84",
            "_dom_classes": [],
            "description": "",
            "_model_name": "FloatProgressModel",
            "bar_style": "info",
            "max": 1,
            "_view_module": "@jupyter-widgets/controls",
            "_model_module_version": "1.5.0",
            "value": 1,
            "_view_count": null,
            "_view_module_version": "1.5.0",
            "orientation": "horizontal",
            "min": 0,
            "description_tooltip": null,
            "_model_module": "@jupyter-widgets/controls",
            "layout": "IPY_MODEL_fe61ea8c35964a2bae45ff80d317d6e1"
          }
        },
        "348f533a641e4f99a727066c4e12799a": {
          "model_module": "@jupyter-widgets/controls",
          "model_name": "HTMLModel",
          "state": {
            "_view_name": "HTMLView",
            "style": "IPY_MODEL_c88045ef38cd4aac817a87b94b2962e1",
            "_dom_classes": [],
            "description": "",
            "_model_name": "HTMLModel",
            "placeholder": "​",
            "_view_module": "@jupyter-widgets/controls",
            "_model_module_version": "1.5.0",
            "value": " 9920512/? [00:20&lt;00:00, 13759817.42it/s]",
            "_view_count": null,
            "_view_module_version": "1.5.0",
            "description_tooltip": null,
            "_model_module": "@jupyter-widgets/controls",
            "layout": "IPY_MODEL_9ba92c0dbc27439d86445b8363cf5986"
          }
        },
        "e67822064f8c4e2b9d9d16cfbcad8e84": {
          "model_module": "@jupyter-widgets/controls",
          "model_name": "ProgressStyleModel",
          "state": {
            "_view_name": "StyleView",
            "_model_name": "ProgressStyleModel",
            "description_width": "initial",
            "_view_module": "@jupyter-widgets/base",
            "_model_module_version": "1.5.0",
            "_view_count": null,
            "_view_module_version": "1.2.0",
            "bar_color": null,
            "_model_module": "@jupyter-widgets/controls"
          }
        },
        "fe61ea8c35964a2bae45ff80d317d6e1": {
          "model_module": "@jupyter-widgets/base",
          "model_name": "LayoutModel",
          "state": {
            "_view_name": "LayoutView",
            "grid_template_rows": null,
            "right": null,
            "justify_content": null,
            "_view_module": "@jupyter-widgets/base",
            "overflow": null,
            "_model_module_version": "1.2.0",
            "_view_count": null,
            "flex_flow": null,
            "width": null,
            "min_width": null,
            "border": null,
            "align_items": null,
            "bottom": null,
            "_model_module": "@jupyter-widgets/base",
            "top": null,
            "grid_column": null,
            "overflow_y": null,
            "overflow_x": null,
            "grid_auto_flow": null,
            "grid_area": null,
            "grid_template_columns": null,
            "flex": null,
            "_model_name": "LayoutModel",
            "justify_items": null,
            "grid_row": null,
            "max_height": null,
            "align_content": null,
            "visibility": null,
            "align_self": null,
            "height": null,
            "min_height": null,
            "padding": null,
            "grid_auto_rows": null,
            "grid_gap": null,
            "max_width": null,
            "order": null,
            "_view_module_version": "1.2.0",
            "grid_template_areas": null,
            "object_position": null,
            "object_fit": null,
            "grid_auto_columns": null,
            "margin": null,
            "display": null,
            "left": null
          }
        },
        "c88045ef38cd4aac817a87b94b2962e1": {
          "model_module": "@jupyter-widgets/controls",
          "model_name": "DescriptionStyleModel",
          "state": {
            "_view_name": "StyleView",
            "_model_name": "DescriptionStyleModel",
            "description_width": "",
            "_view_module": "@jupyter-widgets/base",
            "_model_module_version": "1.5.0",
            "_view_count": null,
            "_view_module_version": "1.2.0",
            "_model_module": "@jupyter-widgets/controls"
          }
        },
        "9ba92c0dbc27439d86445b8363cf5986": {
          "model_module": "@jupyter-widgets/base",
          "model_name": "LayoutModel",
          "state": {
            "_view_name": "LayoutView",
            "grid_template_rows": null,
            "right": null,
            "justify_content": null,
            "_view_module": "@jupyter-widgets/base",
            "overflow": null,
            "_model_module_version": "1.2.0",
            "_view_count": null,
            "flex_flow": null,
            "width": null,
            "min_width": null,
            "border": null,
            "align_items": null,
            "bottom": null,
            "_model_module": "@jupyter-widgets/base",
            "top": null,
            "grid_column": null,
            "overflow_y": null,
            "overflow_x": null,
            "grid_auto_flow": null,
            "grid_area": null,
            "grid_template_columns": null,
            "flex": null,
            "_model_name": "LayoutModel",
            "justify_items": null,
            "grid_row": null,
            "max_height": null,
            "align_content": null,
            "visibility": null,
            "align_self": null,
            "height": null,
            "min_height": null,
            "padding": null,
            "grid_auto_rows": null,
            "grid_gap": null,
            "max_width": null,
            "order": null,
            "_view_module_version": "1.2.0",
            "grid_template_areas": null,
            "object_position": null,
            "object_fit": null,
            "grid_auto_columns": null,
            "margin": null,
            "display": null,
            "left": null
          }
        },
        "d0dd9adc2a2f45f983bf8b8fb2c33a6a": {
          "model_module": "@jupyter-widgets/controls",
          "model_name": "HBoxModel",
          "state": {
            "_view_name": "HBoxView",
            "_dom_classes": [],
            "_model_name": "HBoxModel",
            "_view_module": "@jupyter-widgets/controls",
            "_model_module_version": "1.5.0",
            "_view_count": null,
            "_view_module_version": "1.5.0",
            "box_style": "",
            "layout": "IPY_MODEL_49dd1b3eee9c4d029360a271850cbc97",
            "_model_module": "@jupyter-widgets/controls",
            "children": [
              "IPY_MODEL_0f0e8f990a0a421580a1dac193327ee2",
              "IPY_MODEL_53a9c0c36dd34d73b4016da8dbb337d3"
            ]
          }
        },
        "49dd1b3eee9c4d029360a271850cbc97": {
          "model_module": "@jupyter-widgets/base",
          "model_name": "LayoutModel",
          "state": {
            "_view_name": "LayoutView",
            "grid_template_rows": null,
            "right": null,
            "justify_content": null,
            "_view_module": "@jupyter-widgets/base",
            "overflow": null,
            "_model_module_version": "1.2.0",
            "_view_count": null,
            "flex_flow": null,
            "width": null,
            "min_width": null,
            "border": null,
            "align_items": null,
            "bottom": null,
            "_model_module": "@jupyter-widgets/base",
            "top": null,
            "grid_column": null,
            "overflow_y": null,
            "overflow_x": null,
            "grid_auto_flow": null,
            "grid_area": null,
            "grid_template_columns": null,
            "flex": null,
            "_model_name": "LayoutModel",
            "justify_items": null,
            "grid_row": null,
            "max_height": null,
            "align_content": null,
            "visibility": null,
            "align_self": null,
            "height": null,
            "min_height": null,
            "padding": null,
            "grid_auto_rows": null,
            "grid_gap": null,
            "max_width": null,
            "order": null,
            "_view_module_version": "1.2.0",
            "grid_template_areas": null,
            "object_position": null,
            "object_fit": null,
            "grid_auto_columns": null,
            "margin": null,
            "display": null,
            "left": null
          }
        },
        "0f0e8f990a0a421580a1dac193327ee2": {
          "model_module": "@jupyter-widgets/controls",
          "model_name": "FloatProgressModel",
          "state": {
            "_view_name": "ProgressView",
            "style": "IPY_MODEL_9e670569b2ea49c48f3ab57e8c60b52f",
            "_dom_classes": [],
            "description": "",
            "_model_name": "FloatProgressModel",
            "bar_style": "success",
            "max": 1,
            "_view_module": "@jupyter-widgets/controls",
            "_model_module_version": "1.5.0",
            "value": 1,
            "_view_count": null,
            "_view_module_version": "1.5.0",
            "orientation": "horizontal",
            "min": 0,
            "description_tooltip": null,
            "_model_module": "@jupyter-widgets/controls",
            "layout": "IPY_MODEL_b9fbe39f8f364887b797f5ecb1eb5812"
          }
        },
        "53a9c0c36dd34d73b4016da8dbb337d3": {
          "model_module": "@jupyter-widgets/controls",
          "model_name": "HTMLModel",
          "state": {
            "_view_name": "HTMLView",
            "style": "IPY_MODEL_fac41fcfc3724e98aec20392f7e4c374",
            "_dom_classes": [],
            "description": "",
            "_model_name": "HTMLModel",
            "placeholder": "​",
            "_view_module": "@jupyter-widgets/controls",
            "_model_module_version": "1.5.0",
            "value": " 32768/? [00:00&lt;00:00, 44415.34it/s]",
            "_view_count": null,
            "_view_module_version": "1.5.0",
            "description_tooltip": null,
            "_model_module": "@jupyter-widgets/controls",
            "layout": "IPY_MODEL_8ec7a970ffcc40b79dedb18a9c9df74e"
          }
        },
        "9e670569b2ea49c48f3ab57e8c60b52f": {
          "model_module": "@jupyter-widgets/controls",
          "model_name": "ProgressStyleModel",
          "state": {
            "_view_name": "StyleView",
            "_model_name": "ProgressStyleModel",
            "description_width": "initial",
            "_view_module": "@jupyter-widgets/base",
            "_model_module_version": "1.5.0",
            "_view_count": null,
            "_view_module_version": "1.2.0",
            "bar_color": null,
            "_model_module": "@jupyter-widgets/controls"
          }
        },
        "b9fbe39f8f364887b797f5ecb1eb5812": {
          "model_module": "@jupyter-widgets/base",
          "model_name": "LayoutModel",
          "state": {
            "_view_name": "LayoutView",
            "grid_template_rows": null,
            "right": null,
            "justify_content": null,
            "_view_module": "@jupyter-widgets/base",
            "overflow": null,
            "_model_module_version": "1.2.0",
            "_view_count": null,
            "flex_flow": null,
            "width": null,
            "min_width": null,
            "border": null,
            "align_items": null,
            "bottom": null,
            "_model_module": "@jupyter-widgets/base",
            "top": null,
            "grid_column": null,
            "overflow_y": null,
            "overflow_x": null,
            "grid_auto_flow": null,
            "grid_area": null,
            "grid_template_columns": null,
            "flex": null,
            "_model_name": "LayoutModel",
            "justify_items": null,
            "grid_row": null,
            "max_height": null,
            "align_content": null,
            "visibility": null,
            "align_self": null,
            "height": null,
            "min_height": null,
            "padding": null,
            "grid_auto_rows": null,
            "grid_gap": null,
            "max_width": null,
            "order": null,
            "_view_module_version": "1.2.0",
            "grid_template_areas": null,
            "object_position": null,
            "object_fit": null,
            "grid_auto_columns": null,
            "margin": null,
            "display": null,
            "left": null
          }
        },
        "fac41fcfc3724e98aec20392f7e4c374": {
          "model_module": "@jupyter-widgets/controls",
          "model_name": "DescriptionStyleModel",
          "state": {
            "_view_name": "StyleView",
            "_model_name": "DescriptionStyleModel",
            "description_width": "",
            "_view_module": "@jupyter-widgets/base",
            "_model_module_version": "1.5.0",
            "_view_count": null,
            "_view_module_version": "1.2.0",
            "_model_module": "@jupyter-widgets/controls"
          }
        },
        "8ec7a970ffcc40b79dedb18a9c9df74e": {
          "model_module": "@jupyter-widgets/base",
          "model_name": "LayoutModel",
          "state": {
            "_view_name": "LayoutView",
            "grid_template_rows": null,
            "right": null,
            "justify_content": null,
            "_view_module": "@jupyter-widgets/base",
            "overflow": null,
            "_model_module_version": "1.2.0",
            "_view_count": null,
            "flex_flow": null,
            "width": null,
            "min_width": null,
            "border": null,
            "align_items": null,
            "bottom": null,
            "_model_module": "@jupyter-widgets/base",
            "top": null,
            "grid_column": null,
            "overflow_y": null,
            "overflow_x": null,
            "grid_auto_flow": null,
            "grid_area": null,
            "grid_template_columns": null,
            "flex": null,
            "_model_name": "LayoutModel",
            "justify_items": null,
            "grid_row": null,
            "max_height": null,
            "align_content": null,
            "visibility": null,
            "align_self": null,
            "height": null,
            "min_height": null,
            "padding": null,
            "grid_auto_rows": null,
            "grid_gap": null,
            "max_width": null,
            "order": null,
            "_view_module_version": "1.2.0",
            "grid_template_areas": null,
            "object_position": null,
            "object_fit": null,
            "grid_auto_columns": null,
            "margin": null,
            "display": null,
            "left": null
          }
        },
        "484ea5453ef042539a4d730c83da7be1": {
          "model_module": "@jupyter-widgets/controls",
          "model_name": "HBoxModel",
          "state": {
            "_view_name": "HBoxView",
            "_dom_classes": [],
            "_model_name": "HBoxModel",
            "_view_module": "@jupyter-widgets/controls",
            "_model_module_version": "1.5.0",
            "_view_count": null,
            "_view_module_version": "1.5.0",
            "box_style": "",
            "layout": "IPY_MODEL_410dcabcfa0f4a8cbf6ad8cec9f13ca3",
            "_model_module": "@jupyter-widgets/controls",
            "children": [
              "IPY_MODEL_b5d1573b48314c49849bc42cf08f2cd5",
              "IPY_MODEL_b56d443922b24c388850f4283708a64b"
            ]
          }
        },
        "410dcabcfa0f4a8cbf6ad8cec9f13ca3": {
          "model_module": "@jupyter-widgets/base",
          "model_name": "LayoutModel",
          "state": {
            "_view_name": "LayoutView",
            "grid_template_rows": null,
            "right": null,
            "justify_content": null,
            "_view_module": "@jupyter-widgets/base",
            "overflow": null,
            "_model_module_version": "1.2.0",
            "_view_count": null,
            "flex_flow": null,
            "width": null,
            "min_width": null,
            "border": null,
            "align_items": null,
            "bottom": null,
            "_model_module": "@jupyter-widgets/base",
            "top": null,
            "grid_column": null,
            "overflow_y": null,
            "overflow_x": null,
            "grid_auto_flow": null,
            "grid_area": null,
            "grid_template_columns": null,
            "flex": null,
            "_model_name": "LayoutModel",
            "justify_items": null,
            "grid_row": null,
            "max_height": null,
            "align_content": null,
            "visibility": null,
            "align_self": null,
            "height": null,
            "min_height": null,
            "padding": null,
            "grid_auto_rows": null,
            "grid_gap": null,
            "max_width": null,
            "order": null,
            "_view_module_version": "1.2.0",
            "grid_template_areas": null,
            "object_position": null,
            "object_fit": null,
            "grid_auto_columns": null,
            "margin": null,
            "display": null,
            "left": null
          }
        },
        "b5d1573b48314c49849bc42cf08f2cd5": {
          "model_module": "@jupyter-widgets/controls",
          "model_name": "FloatProgressModel",
          "state": {
            "_view_name": "ProgressView",
            "style": "IPY_MODEL_4e32591a4c064a299e5547a6281b5ebf",
            "_dom_classes": [],
            "description": "",
            "_model_name": "FloatProgressModel",
            "bar_style": "success",
            "max": 1,
            "_view_module": "@jupyter-widgets/controls",
            "_model_module_version": "1.5.0",
            "value": 1,
            "_view_count": null,
            "_view_module_version": "1.5.0",
            "orientation": "horizontal",
            "min": 0,
            "description_tooltip": null,
            "_model_module": "@jupyter-widgets/controls",
            "layout": "IPY_MODEL_1e7a3b3c3764409c8792d565439fc8e7"
          }
        },
        "b56d443922b24c388850f4283708a64b": {
          "model_module": "@jupyter-widgets/controls",
          "model_name": "HTMLModel",
          "state": {
            "_view_name": "HTMLView",
            "style": "IPY_MODEL_93493f9eaabb41e7aa6a38c0976455ad",
            "_dom_classes": [],
            "description": "",
            "_model_name": "HTMLModel",
            "placeholder": "​",
            "_view_module": "@jupyter-widgets/controls",
            "_model_module_version": "1.5.0",
            "value": " 1654784/? [00:00&lt;00:00, 2730050.38it/s]",
            "_view_count": null,
            "_view_module_version": "1.5.0",
            "description_tooltip": null,
            "_model_module": "@jupyter-widgets/controls",
            "layout": "IPY_MODEL_905d468be35d4f63aa477fabc48fe4c9"
          }
        },
        "4e32591a4c064a299e5547a6281b5ebf": {
          "model_module": "@jupyter-widgets/controls",
          "model_name": "ProgressStyleModel",
          "state": {
            "_view_name": "StyleView",
            "_model_name": "ProgressStyleModel",
            "description_width": "initial",
            "_view_module": "@jupyter-widgets/base",
            "_model_module_version": "1.5.0",
            "_view_count": null,
            "_view_module_version": "1.2.0",
            "bar_color": null,
            "_model_module": "@jupyter-widgets/controls"
          }
        },
        "1e7a3b3c3764409c8792d565439fc8e7": {
          "model_module": "@jupyter-widgets/base",
          "model_name": "LayoutModel",
          "state": {
            "_view_name": "LayoutView",
            "grid_template_rows": null,
            "right": null,
            "justify_content": null,
            "_view_module": "@jupyter-widgets/base",
            "overflow": null,
            "_model_module_version": "1.2.0",
            "_view_count": null,
            "flex_flow": null,
            "width": null,
            "min_width": null,
            "border": null,
            "align_items": null,
            "bottom": null,
            "_model_module": "@jupyter-widgets/base",
            "top": null,
            "grid_column": null,
            "overflow_y": null,
            "overflow_x": null,
            "grid_auto_flow": null,
            "grid_area": null,
            "grid_template_columns": null,
            "flex": null,
            "_model_name": "LayoutModel",
            "justify_items": null,
            "grid_row": null,
            "max_height": null,
            "align_content": null,
            "visibility": null,
            "align_self": null,
            "height": null,
            "min_height": null,
            "padding": null,
            "grid_auto_rows": null,
            "grid_gap": null,
            "max_width": null,
            "order": null,
            "_view_module_version": "1.2.0",
            "grid_template_areas": null,
            "object_position": null,
            "object_fit": null,
            "grid_auto_columns": null,
            "margin": null,
            "display": null,
            "left": null
          }
        },
        "93493f9eaabb41e7aa6a38c0976455ad": {
          "model_module": "@jupyter-widgets/controls",
          "model_name": "DescriptionStyleModel",
          "state": {
            "_view_name": "StyleView",
            "_model_name": "DescriptionStyleModel",
            "description_width": "",
            "_view_module": "@jupyter-widgets/base",
            "_model_module_version": "1.5.0",
            "_view_count": null,
            "_view_module_version": "1.2.0",
            "_model_module": "@jupyter-widgets/controls"
          }
        },
        "905d468be35d4f63aa477fabc48fe4c9": {
          "model_module": "@jupyter-widgets/base",
          "model_name": "LayoutModel",
          "state": {
            "_view_name": "LayoutView",
            "grid_template_rows": null,
            "right": null,
            "justify_content": null,
            "_view_module": "@jupyter-widgets/base",
            "overflow": null,
            "_model_module_version": "1.2.0",
            "_view_count": null,
            "flex_flow": null,
            "width": null,
            "min_width": null,
            "border": null,
            "align_items": null,
            "bottom": null,
            "_model_module": "@jupyter-widgets/base",
            "top": null,
            "grid_column": null,
            "overflow_y": null,
            "overflow_x": null,
            "grid_auto_flow": null,
            "grid_area": null,
            "grid_template_columns": null,
            "flex": null,
            "_model_name": "LayoutModel",
            "justify_items": null,
            "grid_row": null,
            "max_height": null,
            "align_content": null,
            "visibility": null,
            "align_self": null,
            "height": null,
            "min_height": null,
            "padding": null,
            "grid_auto_rows": null,
            "grid_gap": null,
            "max_width": null,
            "order": null,
            "_view_module_version": "1.2.0",
            "grid_template_areas": null,
            "object_position": null,
            "object_fit": null,
            "grid_auto_columns": null,
            "margin": null,
            "display": null,
            "left": null
          }
        },
        "b4b6e28c0fe64d99964de6c16ee5589f": {
          "model_module": "@jupyter-widgets/controls",
          "model_name": "HBoxModel",
          "state": {
            "_view_name": "HBoxView",
            "_dom_classes": [],
            "_model_name": "HBoxModel",
            "_view_module": "@jupyter-widgets/controls",
            "_model_module_version": "1.5.0",
            "_view_count": null,
            "_view_module_version": "1.5.0",
            "box_style": "",
            "layout": "IPY_MODEL_49a6dba0114a407988e4ac681d30cfc2",
            "_model_module": "@jupyter-widgets/controls",
            "children": [
              "IPY_MODEL_037a581d8e594a449539a5f73ac939e9",
              "IPY_MODEL_26d632716cba4104b83e56677b25ff81"
            ]
          }
        },
        "49a6dba0114a407988e4ac681d30cfc2": {
          "model_module": "@jupyter-widgets/base",
          "model_name": "LayoutModel",
          "state": {
            "_view_name": "LayoutView",
            "grid_template_rows": null,
            "right": null,
            "justify_content": null,
            "_view_module": "@jupyter-widgets/base",
            "overflow": null,
            "_model_module_version": "1.2.0",
            "_view_count": null,
            "flex_flow": null,
            "width": null,
            "min_width": null,
            "border": null,
            "align_items": null,
            "bottom": null,
            "_model_module": "@jupyter-widgets/base",
            "top": null,
            "grid_column": null,
            "overflow_y": null,
            "overflow_x": null,
            "grid_auto_flow": null,
            "grid_area": null,
            "grid_template_columns": null,
            "flex": null,
            "_model_name": "LayoutModel",
            "justify_items": null,
            "grid_row": null,
            "max_height": null,
            "align_content": null,
            "visibility": null,
            "align_self": null,
            "height": null,
            "min_height": null,
            "padding": null,
            "grid_auto_rows": null,
            "grid_gap": null,
            "max_width": null,
            "order": null,
            "_view_module_version": "1.2.0",
            "grid_template_areas": null,
            "object_position": null,
            "object_fit": null,
            "grid_auto_columns": null,
            "margin": null,
            "display": null,
            "left": null
          }
        },
        "037a581d8e594a449539a5f73ac939e9": {
          "model_module": "@jupyter-widgets/controls",
          "model_name": "FloatProgressModel",
          "state": {
            "_view_name": "ProgressView",
            "style": "IPY_MODEL_5ac08ba7db21490bae3c11f709c30907",
            "_dom_classes": [],
            "description": "",
            "_model_name": "FloatProgressModel",
            "bar_style": "success",
            "max": 1,
            "_view_module": "@jupyter-widgets/controls",
            "_model_module_version": "1.5.0",
            "value": 1,
            "_view_count": null,
            "_view_module_version": "1.5.0",
            "orientation": "horizontal",
            "min": 0,
            "description_tooltip": null,
            "_model_module": "@jupyter-widgets/controls",
            "layout": "IPY_MODEL_ea58d6544aed4ff5b3140ea4ddb0547b"
          }
        },
        "26d632716cba4104b83e56677b25ff81": {
          "model_module": "@jupyter-widgets/controls",
          "model_name": "HTMLModel",
          "state": {
            "_view_name": "HTMLView",
            "style": "IPY_MODEL_c5f4e8f2510a4331b7590c1ee24bba97",
            "_dom_classes": [],
            "description": "",
            "_model_name": "HTMLModel",
            "placeholder": "​",
            "_view_module": "@jupyter-widgets/controls",
            "_model_module_version": "1.5.0",
            "value": " 8192/? [00:00&lt;00:00, 25125.36it/s]",
            "_view_count": null,
            "_view_module_version": "1.5.0",
            "description_tooltip": null,
            "_model_module": "@jupyter-widgets/controls",
            "layout": "IPY_MODEL_46e2b90ca8824bc5950b24fe43588ad7"
          }
        },
        "5ac08ba7db21490bae3c11f709c30907": {
          "model_module": "@jupyter-widgets/controls",
          "model_name": "ProgressStyleModel",
          "state": {
            "_view_name": "StyleView",
            "_model_name": "ProgressStyleModel",
            "description_width": "initial",
            "_view_module": "@jupyter-widgets/base",
            "_model_module_version": "1.5.0",
            "_view_count": null,
            "_view_module_version": "1.2.0",
            "bar_color": null,
            "_model_module": "@jupyter-widgets/controls"
          }
        },
        "ea58d6544aed4ff5b3140ea4ddb0547b": {
          "model_module": "@jupyter-widgets/base",
          "model_name": "LayoutModel",
          "state": {
            "_view_name": "LayoutView",
            "grid_template_rows": null,
            "right": null,
            "justify_content": null,
            "_view_module": "@jupyter-widgets/base",
            "overflow": null,
            "_model_module_version": "1.2.0",
            "_view_count": null,
            "flex_flow": null,
            "width": null,
            "min_width": null,
            "border": null,
            "align_items": null,
            "bottom": null,
            "_model_module": "@jupyter-widgets/base",
            "top": null,
            "grid_column": null,
            "overflow_y": null,
            "overflow_x": null,
            "grid_auto_flow": null,
            "grid_area": null,
            "grid_template_columns": null,
            "flex": null,
            "_model_name": "LayoutModel",
            "justify_items": null,
            "grid_row": null,
            "max_height": null,
            "align_content": null,
            "visibility": null,
            "align_self": null,
            "height": null,
            "min_height": null,
            "padding": null,
            "grid_auto_rows": null,
            "grid_gap": null,
            "max_width": null,
            "order": null,
            "_view_module_version": "1.2.0",
            "grid_template_areas": null,
            "object_position": null,
            "object_fit": null,
            "grid_auto_columns": null,
            "margin": null,
            "display": null,
            "left": null
          }
        },
        "c5f4e8f2510a4331b7590c1ee24bba97": {
          "model_module": "@jupyter-widgets/controls",
          "model_name": "DescriptionStyleModel",
          "state": {
            "_view_name": "StyleView",
            "_model_name": "DescriptionStyleModel",
            "description_width": "",
            "_view_module": "@jupyter-widgets/base",
            "_model_module_version": "1.5.0",
            "_view_count": null,
            "_view_module_version": "1.2.0",
            "_model_module": "@jupyter-widgets/controls"
          }
        },
        "46e2b90ca8824bc5950b24fe43588ad7": {
          "model_module": "@jupyter-widgets/base",
          "model_name": "LayoutModel",
          "state": {
            "_view_name": "LayoutView",
            "grid_template_rows": null,
            "right": null,
            "justify_content": null,
            "_view_module": "@jupyter-widgets/base",
            "overflow": null,
            "_model_module_version": "1.2.0",
            "_view_count": null,
            "flex_flow": null,
            "width": null,
            "min_width": null,
            "border": null,
            "align_items": null,
            "bottom": null,
            "_model_module": "@jupyter-widgets/base",
            "top": null,
            "grid_column": null,
            "overflow_y": null,
            "overflow_x": null,
            "grid_auto_flow": null,
            "grid_area": null,
            "grid_template_columns": null,
            "flex": null,
            "_model_name": "LayoutModel",
            "justify_items": null,
            "grid_row": null,
            "max_height": null,
            "align_content": null,
            "visibility": null,
            "align_self": null,
            "height": null,
            "min_height": null,
            "padding": null,
            "grid_auto_rows": null,
            "grid_gap": null,
            "max_width": null,
            "order": null,
            "_view_module_version": "1.2.0",
            "grid_template_areas": null,
            "object_position": null,
            "object_fit": null,
            "grid_auto_columns": null,
            "margin": null,
            "display": null,
            "left": null
          }
        }
      }
    }
  },
  "cells": [
    {
      "cell_type": "markdown",
      "metadata": {
        "id": "FsWJx7dey3Jk",
        "colab_type": "text"
      },
      "source": [
        "## **1. 필요한 모듈 선언**\n",
        "---"
      ]
    },
    {
      "cell_type": "code",
      "metadata": {
        "id": "IRVg-P-4y1fI",
        "colab_type": "code",
        "colab": {}
      },
      "source": [
        "import torch\n",
        "import torch.nn as nn\n",
        "import torch.nn.functional as F\n",
        "import torch.optim as optim\n",
        "import numpy as np\n",
        "\n",
        "import torchvision.datasets as dsets\n",
        "import torchvision.transforms as transforms\n",
        "import matplotlib.pyplot as plt\n",
        "import random"
      ],
      "execution_count": 7,
      "outputs": []
    },
    {
      "cell_type": "markdown",
      "metadata": {
        "id": "QJB1w6wXzlVb",
        "colab_type": "text"
      },
      "source": [
        "## **2. 시드 고정**\n",
        "---"
      ]
    },
    {
      "cell_type": "code",
      "metadata": {
        "id": "uvhpDRfzzkpk",
        "colab_type": "code",
        "colab": {}
      },
      "source": [
        "torch.manual_seed(42)\n",
        "np.random.seed(42)"
      ],
      "execution_count": 8,
      "outputs": []
    },
    {
      "cell_type": "code",
      "metadata": {
        "id": "-TKQ86FeNpRp",
        "colab_type": "code",
        "colab": {}
      },
      "source": [
        "device = 'cuda' if torch.cuda.is_available() else 'cpu'\n",
        "\n",
        "if device == 'cuda':\n",
        "    torch.cuda.manual_seed_all(777)"
      ],
      "execution_count": 9,
      "outputs": []
    },
    {
      "cell_type": "markdown",
      "metadata": {
        "id": "freLCP-Qz8CC",
        "colab_type": "text"
      },
      "source": [
        "## **3. 데이터셋 로드 & 전처리**\n",
        "---\n",
        "\n"
      ]
    },
    {
      "cell_type": "markdown",
      "metadata": {
        "id": "Vg905d_90bLS",
        "colab_type": "text"
      },
      "source": [
        "####**(1) 데이터셋 로드**"
      ]
    },
    {
      "cell_type": "code",
      "metadata": {
        "id": "MmlQjfkANdvj",
        "colab_type": "code",
        "colab": {
          "base_uri": "https://localhost:8080/",
          "height": 435,
          "referenced_widgets": [
            "faa2b40605ae4095a6c72112cf54a148",
            "0c4b411b8d93497485233a72915cf50a",
            "252d795f32484ff79104d2bcdf43cfc3",
            "348f533a641e4f99a727066c4e12799a",
            "e67822064f8c4e2b9d9d16cfbcad8e84",
            "fe61ea8c35964a2bae45ff80d317d6e1",
            "c88045ef38cd4aac817a87b94b2962e1",
            "9ba92c0dbc27439d86445b8363cf5986",
            "d0dd9adc2a2f45f983bf8b8fb2c33a6a",
            "49dd1b3eee9c4d029360a271850cbc97",
            "0f0e8f990a0a421580a1dac193327ee2",
            "53a9c0c36dd34d73b4016da8dbb337d3",
            "9e670569b2ea49c48f3ab57e8c60b52f",
            "b9fbe39f8f364887b797f5ecb1eb5812",
            "fac41fcfc3724e98aec20392f7e4c374",
            "8ec7a970ffcc40b79dedb18a9c9df74e",
            "484ea5453ef042539a4d730c83da7be1",
            "410dcabcfa0f4a8cbf6ad8cec9f13ca3",
            "b5d1573b48314c49849bc42cf08f2cd5",
            "b56d443922b24c388850f4283708a64b",
            "4e32591a4c064a299e5547a6281b5ebf",
            "1e7a3b3c3764409c8792d565439fc8e7",
            "93493f9eaabb41e7aa6a38c0976455ad",
            "905d468be35d4f63aa477fabc48fe4c9",
            "b4b6e28c0fe64d99964de6c16ee5589f",
            "49a6dba0114a407988e4ac681d30cfc2",
            "037a581d8e594a449539a5f73ac939e9",
            "26d632716cba4104b83e56677b25ff81",
            "5ac08ba7db21490bae3c11f709c30907",
            "ea58d6544aed4ff5b3140ea4ddb0547b",
            "c5f4e8f2510a4331b7590c1ee24bba97",
            "46e2b90ca8824bc5950b24fe43588ad7"
          ]
        },
        "outputId": "528d4638-df4a-4eea-c51a-865317f669a9"
      },
      "source": [
        "# MNIST dataset\n",
        "mnist_train = dsets.MNIST(root='MNIST_data/',\n",
        "                          train=True,\n",
        "                          transform=transforms.ToTensor(),\n",
        "                          download=True)\n",
        "\n",
        "mnist_test = dsets.MNIST(root='MNIST_data/',\n",
        "                         train=False,\n",
        "                         transform=transforms.ToTensor(),\n",
        "                         download=True)"
      ],
      "execution_count": 10,
      "outputs": [
        {
          "output_type": "stream",
          "text": [
            "Downloading http://yann.lecun.com/exdb/mnist/train-images-idx3-ubyte.gz to MNIST_data/MNIST/raw/train-images-idx3-ubyte.gz\n"
          ],
          "name": "stdout"
        },
        {
          "output_type": "display_data",
          "data": {
            "application/vnd.jupyter.widget-view+json": {
              "model_id": "faa2b40605ae4095a6c72112cf54a148",
              "version_minor": 0,
              "version_major": 2
            },
            "text/plain": [
              "HBox(children=(FloatProgress(value=1.0, bar_style='info', max=1.0), HTML(value='')))"
            ]
          },
          "metadata": {
            "tags": []
          }
        },
        {
          "output_type": "stream",
          "text": [
            "Extracting MNIST_data/MNIST/raw/train-images-idx3-ubyte.gz to MNIST_data/MNIST/raw\n",
            "Downloading http://yann.lecun.com/exdb/mnist/train-labels-idx1-ubyte.gz to MNIST_data/MNIST/raw/train-labels-idx1-ubyte.gz\n"
          ],
          "name": "stdout"
        },
        {
          "output_type": "display_data",
          "data": {
            "application/vnd.jupyter.widget-view+json": {
              "model_id": "d0dd9adc2a2f45f983bf8b8fb2c33a6a",
              "version_minor": 0,
              "version_major": 2
            },
            "text/plain": [
              "HBox(children=(FloatProgress(value=1.0, bar_style='info', max=1.0), HTML(value='')))"
            ]
          },
          "metadata": {
            "tags": []
          }
        },
        {
          "output_type": "stream",
          "text": [
            "Extracting MNIST_data/MNIST/raw/train-labels-idx1-ubyte.gz to MNIST_data/MNIST/raw\n",
            "Downloading http://yann.lecun.com/exdb/mnist/t10k-images-idx3-ubyte.gz to MNIST_data/MNIST/raw/t10k-images-idx3-ubyte.gz\n"
          ],
          "name": "stdout"
        },
        {
          "output_type": "display_data",
          "data": {
            "application/vnd.jupyter.widget-view+json": {
              "model_id": "484ea5453ef042539a4d730c83da7be1",
              "version_minor": 0,
              "version_major": 2
            },
            "text/plain": [
              "HBox(children=(FloatProgress(value=1.0, bar_style='info', max=1.0), HTML(value='')))"
            ]
          },
          "metadata": {
            "tags": []
          }
        },
        {
          "output_type": "stream",
          "text": [
            "Extracting MNIST_data/MNIST/raw/t10k-images-idx3-ubyte.gz to MNIST_data/MNIST/raw\n",
            "Downloading http://yann.lecun.com/exdb/mnist/t10k-labels-idx1-ubyte.gz to MNIST_data/MNIST/raw/t10k-labels-idx1-ubyte.gz\n"
          ],
          "name": "stdout"
        },
        {
          "output_type": "display_data",
          "data": {
            "application/vnd.jupyter.widget-view+json": {
              "model_id": "b4b6e28c0fe64d99964de6c16ee5589f",
              "version_minor": 0,
              "version_major": 2
            },
            "text/plain": [
              "HBox(children=(FloatProgress(value=1.0, bar_style='info', max=1.0), HTML(value='')))"
            ]
          },
          "metadata": {
            "tags": []
          }
        },
        {
          "output_type": "stream",
          "text": [
            "Extracting MNIST_data/MNIST/raw/t10k-labels-idx1-ubyte.gz to MNIST_data/MNIST/raw\n",
            "Processing...\n"
          ],
          "name": "stdout"
        },
        {
          "output_type": "stream",
          "text": [
            "/usr/local/lib/python3.6/dist-packages/torchvision/datasets/mnist.py:469: UserWarning: The given NumPy array is not writeable, and PyTorch does not support non-writeable tensors. This means you can write to the underlying (supposedly non-writeable) NumPy array using the tensor. You may want to copy the array to protect its data or make it writeable before converting it to a tensor. This type of warning will be suppressed for the rest of this program. (Triggered internally at  /pytorch/torch/csrc/utils/tensor_numpy.cpp:141.)\n",
            "  return torch.from_numpy(parsed.astype(m[2], copy=False)).view(*s)\n"
          ],
          "name": "stderr"
        },
        {
          "output_type": "stream",
          "text": [
            "Done!\n",
            "\n",
            "\n",
            "\n"
          ],
          "name": "stdout"
        }
      ]
    },
    {
      "cell_type": "markdown",
      "metadata": {
        "id": "eikY3yIH0-JB",
        "colab_type": "text"
      },
      "source": [
        "#### **(2) 데이터로더 생성**"
      ]
    },
    {
      "cell_type": "code",
      "metadata": {
        "id": "lQzV3nwh1Agj",
        "colab_type": "code",
        "colab": {}
      },
      "source": [
        "# dataset loader\n",
        "data_loader = torch.utils.data.DataLoader(dataset=mnist_train,\n",
        "                                          batch_size=100,\n",
        "                                          shuffle=True,\n",
        "                                          drop_last=True)"
      ],
      "execution_count": 12,
      "outputs": []
    },
    {
      "cell_type": "markdown",
      "metadata": {
        "id": "XYPcCXaC7KE1",
        "colab_type": "text"
      },
      "source": [
        "## **4. 모델 생성**\n",
        "---"
      ]
    },
    {
      "cell_type": "markdown",
      "metadata": {
        "id": "XHndAvXx8kZk",
        "colab_type": "text"
      },
      "source": [
        "#### **(1) 모델 생성** \n",
        "(현재 모델 구조: 레이어 1개)"
      ]
    },
    {
      "cell_type": "code",
      "metadata": {
        "id": "jG6L8Nyl7Kmf",
        "colab_type": "code",
        "colab": {}
      },
      "source": [
        "model = nn.Linear(784, 10, bias=True).to(device)"
      ],
      "execution_count": 13,
      "outputs": []
    },
    {
      "cell_type": "markdown",
      "metadata": {
        "id": "pRSagTnkOlOp",
        "colab_type": "text"
      },
      "source": [
        "#### **(2) 모델의 weight값 초기화**"
      ]
    },
    {
      "cell_type": "code",
      "metadata": {
        "id": "KpWhY8BT8i_6",
        "colab_type": "code",
        "colab": {
          "base_uri": "https://localhost:8080/",
          "height": 179
        },
        "outputId": "afec488a-8076-4bdd-be9e-1edbf25aab4e"
      },
      "source": [
        "# xavier initialization\n",
        "nn.init.xavier_uniform_(model.weight)"
      ],
      "execution_count": 27,
      "outputs": [
        {
          "output_type": "execute_result",
          "data": {
            "text/plain": [
              "Parameter containing:\n",
              "tensor([[ 0.0004,  0.0839, -0.0788,  ..., -0.0654, -0.0063, -0.0428],\n",
              "        [-0.0259,  0.0172, -0.0214,  ...,  0.0521,  0.0378, -0.0008],\n",
              "        [-0.0778,  0.0603, -0.0296,  ...,  0.0750,  0.0504, -0.0823],\n",
              "        ...,\n",
              "        [ 0.0820,  0.0499,  0.0152,  ...,  0.0536, -0.0087,  0.0197],\n",
              "        [-0.0527, -0.0178, -0.0654,  ...,  0.0111, -0.0181,  0.0477],\n",
              "        [ 0.0635, -0.0575, -0.0253,  ..., -0.0859,  0.0258,  0.0657]],\n",
              "       requires_grad=True)"
            ]
          },
          "metadata": {
            "tags": []
          },
          "execution_count": 27
        }
      ]
    },
    {
      "cell_type": "markdown",
      "metadata": {
        "id": "ZRzbwHwr89_a",
        "colab_type": "text"
      },
      "source": [
        "## **5. 모델 학습**\n",
        "---"
      ]
    },
    {
      "cell_type": "markdown",
      "metadata": {
        "id": "sDQFlGqR9CQt",
        "colab_type": "text"
      },
      "source": [
        "#### **(1) optimizer 및 cost 함수 선언**"
      ]
    },
    {
      "cell_type": "code",
      "metadata": {
        "id": "aHg6srsu9Avb",
        "colab_type": "code",
        "colab": {}
      },
      "source": [
        "# optimizer\n",
        "learning_rate = 1e-4\n",
        "optimizer = optim.SGD(model.parameters(), lr=learning_rate)\n",
        "\n",
        "# cost function (loss function)\n",
        "criterion = torch.nn.CrossEntropyLoss().to(device)    # Softmax is internally computed."
      ],
      "execution_count": 28,
      "outputs": []
    },
    {
      "cell_type": "markdown",
      "metadata": {
        "id": "ihZ9CGtv-_Xx",
        "colab_type": "text"
      },
      "source": [
        "#### **(2) 모델 학습**"
      ]
    },
    {
      "cell_type": "code",
      "metadata": {
        "id": "QCF5fJK1_BE5",
        "colab_type": "code",
        "colab": {}
      },
      "source": [
        "# epoch: 전체 데이터를 몇 번 학습할 것인지\n",
        "nb_epochs = 1000"
      ],
      "execution_count": 26,
      "outputs": []
    },
    {
      "cell_type": "code",
      "metadata": {
        "id": "y5Cbcdeu_Mjx",
        "colab_type": "code",
        "colab": {
          "base_uri": "https://localhost:8080/",
          "height": 1000
        },
        "outputId": "ab483a09-a770-47cf-d172-9717d330f6a9"
      },
      "source": [
        "# 학습 시작\n",
        "print('train start !! \\n')\n",
        "\n",
        "for epoch in range(nb_epochs + 1):\n",
        "    avg_cost = 0\n",
        "\n",
        "    for batch_idx, (x, y) in enumerate(data_loader):\n",
        "      x = x.view(-1, 28*28).to(device)\n",
        "      y = y.to(device)\n",
        "\n",
        "      # 모델 예측\n",
        "      prediction = model(x)\n",
        "\n",
        "      # cost (loss) 계산\n",
        "      cost = criterion(prediction, y)\n",
        "      avg_cost += cost\n",
        "\n",
        "      # cost로 모델 업데이트\n",
        "      optimizer.zero_grad()\n",
        "      cost.backward()\n",
        "      optimizer.step()\n",
        "\n",
        "    avg_cost = avg_cost / len(data_loader)\n",
        "\n",
        "    # 10 epoch 마다 로그 출력\n",
        "    if epoch % 10 == 0:\n",
        "        print('Epoch {:5d}/{} \\t Cost(Loss): {:.6f}\\n'.format(epoch, nb_epochs, avg_cost))"
      ],
      "execution_count": 29,
      "outputs": [
        {
          "output_type": "stream",
          "text": [
            "train start !! \n",
            "\n",
            "Epoch     0/1000 \t Cost(Loss): 2.377354\n",
            "\n",
            "Epoch    10/1000 \t Cost(Loss): 1.826009\n",
            "\n",
            "Epoch    20/1000 \t Cost(Loss): 1.492453\n",
            "\n",
            "Epoch    30/1000 \t Cost(Loss): 1.274115\n",
            "\n",
            "Epoch    40/1000 \t Cost(Loss): 1.124537\n",
            "\n",
            "Epoch    50/1000 \t Cost(Loss): 1.017135\n",
            "\n",
            "Epoch    60/1000 \t Cost(Loss): 0.936749\n",
            "\n",
            "Epoch    70/1000 \t Cost(Loss): 0.874449\n",
            "\n",
            "Epoch    80/1000 \t Cost(Loss): 0.824752\n",
            "\n",
            "Epoch    90/1000 \t Cost(Loss): 0.784148\n",
            "\n",
            "Epoch   100/1000 \t Cost(Loss): 0.750307\n",
            "\n",
            "Epoch   110/1000 \t Cost(Loss): 0.721628\n",
            "\n",
            "Epoch   120/1000 \t Cost(Loss): 0.696976\n",
            "\n",
            "Epoch   130/1000 \t Cost(Loss): 0.675529\n",
            "\n",
            "Epoch   140/1000 \t Cost(Loss): 0.656674\n",
            "\n",
            "Epoch   150/1000 \t Cost(Loss): 0.639947\n",
            "\n",
            "Epoch   160/1000 \t Cost(Loss): 0.624988\n",
            "\n",
            "Epoch   170/1000 \t Cost(Loss): 0.611518\n",
            "\n",
            "Epoch   180/1000 \t Cost(Loss): 0.599312\n",
            "\n",
            "Epoch   190/1000 \t Cost(Loss): 0.588190\n",
            "\n",
            "Epoch   200/1000 \t Cost(Loss): 0.578004\n",
            "\n",
            "Epoch   210/1000 \t Cost(Loss): 0.568635\n",
            "\n",
            "Epoch   220/1000 \t Cost(Loss): 0.559980\n",
            "\n",
            "Epoch   230/1000 \t Cost(Loss): 0.551957\n",
            "\n",
            "Epoch   240/1000 \t Cost(Loss): 0.544492\n",
            "\n",
            "Epoch   250/1000 \t Cost(Loss): 0.537527\n",
            "\n",
            "Epoch   260/1000 \t Cost(Loss): 0.531007\n",
            "\n",
            "Epoch   270/1000 \t Cost(Loss): 0.524890\n",
            "\n",
            "Epoch   280/1000 \t Cost(Loss): 0.519136\n",
            "\n",
            "Epoch   290/1000 \t Cost(Loss): 0.513710\n",
            "\n",
            "Epoch   300/1000 \t Cost(Loss): 0.508584\n",
            "\n",
            "Epoch   310/1000 \t Cost(Loss): 0.503731\n",
            "\n",
            "Epoch   320/1000 \t Cost(Loss): 0.499128\n",
            "\n",
            "Epoch   330/1000 \t Cost(Loss): 0.494754\n",
            "\n",
            "Epoch   340/1000 \t Cost(Loss): 0.490592\n",
            "\n",
            "Epoch   350/1000 \t Cost(Loss): 0.486625\n",
            "\n",
            "Epoch   360/1000 \t Cost(Loss): 0.482839\n",
            "\n",
            "Epoch   370/1000 \t Cost(Loss): 0.479219\n",
            "\n",
            "Epoch   380/1000 \t Cost(Loss): 0.475756\n",
            "\n",
            "Epoch   390/1000 \t Cost(Loss): 0.472436\n",
            "\n",
            "Epoch   400/1000 \t Cost(Loss): 0.469252\n",
            "\n",
            "Epoch   410/1000 \t Cost(Loss): 0.466194\n",
            "\n",
            "Epoch   420/1000 \t Cost(Loss): 0.463254\n",
            "\n",
            "Epoch   430/1000 \t Cost(Loss): 0.460425\n",
            "\n",
            "Epoch   440/1000 \t Cost(Loss): 0.457700\n",
            "\n",
            "Epoch   450/1000 \t Cost(Loss): 0.455072\n",
            "\n",
            "Epoch   460/1000 \t Cost(Loss): 0.452537\n",
            "\n",
            "Epoch   470/1000 \t Cost(Loss): 0.450089\n",
            "\n",
            "Epoch   480/1000 \t Cost(Loss): 0.447722\n",
            "\n",
            "Epoch   490/1000 \t Cost(Loss): 0.445434\n",
            "\n",
            "Epoch   500/1000 \t Cost(Loss): 0.443218\n",
            "\n",
            "Epoch   510/1000 \t Cost(Loss): 0.441073\n",
            "\n",
            "Epoch   520/1000 \t Cost(Loss): 0.438993\n",
            "\n",
            "Epoch   530/1000 \t Cost(Loss): 0.436976\n",
            "\n",
            "Epoch   540/1000 \t Cost(Loss): 0.435019\n",
            "\n",
            "Epoch   550/1000 \t Cost(Loss): 0.433119\n",
            "\n",
            "Epoch   560/1000 \t Cost(Loss): 0.431272\n",
            "\n",
            "Epoch   570/1000 \t Cost(Loss): 0.429477\n",
            "\n",
            "Epoch   580/1000 \t Cost(Loss): 0.427732\n",
            "\n",
            "Epoch   590/1000 \t Cost(Loss): 0.426033\n",
            "\n",
            "Epoch   600/1000 \t Cost(Loss): 0.424379\n",
            "\n",
            "Epoch   610/1000 \t Cost(Loss): 0.422768\n",
            "\n",
            "Epoch   620/1000 \t Cost(Loss): 0.421199\n",
            "\n",
            "Epoch   630/1000 \t Cost(Loss): 0.419669\n",
            "\n",
            "Epoch   640/1000 \t Cost(Loss): 0.418176\n",
            "\n",
            "Epoch   650/1000 \t Cost(Loss): 0.416720\n",
            "\n",
            "Epoch   660/1000 \t Cost(Loss): 0.415298\n",
            "\n",
            "Epoch   670/1000 \t Cost(Loss): 0.413910\n",
            "\n",
            "Epoch   680/1000 \t Cost(Loss): 0.412554\n",
            "\n",
            "Epoch   690/1000 \t Cost(Loss): 0.411229\n",
            "\n",
            "Epoch   700/1000 \t Cost(Loss): 0.409934\n",
            "\n",
            "Epoch   710/1000 \t Cost(Loss): 0.408668\n",
            "\n",
            "Epoch   720/1000 \t Cost(Loss): 0.407428\n",
            "\n",
            "Epoch   730/1000 \t Cost(Loss): 0.406216\n",
            "\n",
            "Epoch   740/1000 \t Cost(Loss): 0.405029\n",
            "\n",
            "Epoch   750/1000 \t Cost(Loss): 0.403868\n",
            "\n",
            "Epoch   760/1000 \t Cost(Loss): 0.402730\n",
            "\n",
            "Epoch   770/1000 \t Cost(Loss): 0.401614\n",
            "\n",
            "Epoch   780/1000 \t Cost(Loss): 0.400522\n",
            "\n",
            "Epoch   790/1000 \t Cost(Loss): 0.399451\n",
            "\n",
            "Epoch   800/1000 \t Cost(Loss): 0.398401\n",
            "\n",
            "Epoch   810/1000 \t Cost(Loss): 0.397371\n",
            "\n",
            "Epoch   820/1000 \t Cost(Loss): 0.396360\n",
            "\n",
            "Epoch   830/1000 \t Cost(Loss): 0.395369\n",
            "\n",
            "Epoch   840/1000 \t Cost(Loss): 0.394396\n",
            "\n",
            "Epoch   850/1000 \t Cost(Loss): 0.393441\n",
            "\n",
            "Epoch   860/1000 \t Cost(Loss): 0.392503\n",
            "\n",
            "Epoch   870/1000 \t Cost(Loss): 0.391581\n",
            "\n",
            "Epoch   880/1000 \t Cost(Loss): 0.390676\n",
            "\n",
            "Epoch   890/1000 \t Cost(Loss): 0.389787\n",
            "\n",
            "Epoch   900/1000 \t Cost(Loss): 0.388913\n",
            "\n",
            "Epoch   910/1000 \t Cost(Loss): 0.388054\n",
            "\n",
            "Epoch   920/1000 \t Cost(Loss): 0.387209\n",
            "\n",
            "Epoch   930/1000 \t Cost(Loss): 0.386379\n",
            "\n",
            "Epoch   940/1000 \t Cost(Loss): 0.385562\n",
            "\n",
            "Epoch   950/1000 \t Cost(Loss): 0.384758\n",
            "\n",
            "Epoch   960/1000 \t Cost(Loss): 0.383967\n",
            "\n",
            "Epoch   970/1000 \t Cost(Loss): 0.383189\n",
            "\n",
            "Epoch   980/1000 \t Cost(Loss): 0.382423\n",
            "\n",
            "Epoch   990/1000 \t Cost(Loss): 0.381669\n",
            "\n",
            "Epoch  1000/1000 \t Cost(Loss): 0.380927\n",
            "\n"
          ],
          "name": "stdout"
        }
      ]
    }
  ]
}
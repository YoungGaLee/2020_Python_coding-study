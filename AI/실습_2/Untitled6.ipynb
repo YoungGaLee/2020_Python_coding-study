{
  "nbformat": 4,
  "nbformat_minor": 0,
  "metadata": {
    "colab": {
      "name": "Untitled6.ipynb",
      "provenance": [],
      "collapsed_sections": []
    },
    "kernelspec": {
      "name": "python3",
      "display_name": "Python 3"
    }
  },
  "cells": [
    {
      "cell_type": "code",
      "metadata": {
        "id": "8yyqipVkbqgB",
        "colab_type": "code",
        "colab": {
          "base_uri": "https://localhost:8080/",
          "height": 298
        },
        "outputId": "695ae1c3-86c8-4d83-9cdd-8881120ef3f0"
      },
      "source": [
        "import torch\n",
        "import torch.nn as nn\n",
        "import torch.nn.functional as F\n",
        "import torch.optim as optim\n",
        "import torchvision.datasets as dsets\n",
        "import torchvision.transforms as transforms\n",
        "import matplotlib.pyplot as plt\n",
        "import random\n",
        "\n",
        "\n",
        "device = 'cuda' if torch.cuda.is_available() else 'cpu'\n",
        "\n",
        "#시드고정\n",
        "random.seed(777)\n",
        "torch.manual_seed(777)\n",
        "if device == 'cuda':\n",
        "    torch.cuda.manual_seed_all(777)\n",
        "\n",
        "#eopchs 랑 한번에 꺼내쓸 데이터량인 batch_size 를 설정\n",
        "\n",
        "training_epochs = 15\n",
        "batch_size = 100\n",
        "\n",
        "#데이터셋 로드\n",
        "mnist_train = dsets.MNIST(root=\"MNIST_data/\", train=True, transform=transforms.ToTensor()\n",
        ",download=True)\n",
        "\n",
        "mnist_test = dsets.MNIST(root=\"MNIST_data/\", train=False, transform=transforms.ToTensor()\n",
        ",download=True)\n",
        "\n",
        "#데이터셋 로드한걸 셔플, 그리고 drop_last \n",
        "data_loader = torch.utils.data.DataLoader(dataset=mnist_train,\n",
        "                                          batch_size=batch_size,\n",
        "                                          shuffle=True,\n",
        "                                          drop_last=True)\n",
        "\n",
        "#hypothiesis(모델설정)\n",
        "linear = torch.nn.Linear(784, 10, bias=True).to(device)\n",
        "\n",
        "#Classification 할때 값이 0 또는 1로 나올때 crossenrtopyloss를 사용\n",
        "criterion = torch.nn.CrossEntropyLoss().to(device) \n",
        "\n",
        "#learning rate 설정 하고 optimizer\n",
        "optimizer = torch.optim.SGD(linear.parameters(), lr=0.1)\n",
        "\n",
        "\n",
        "\n",
        "# 학습하는거\n",
        "\n",
        "for epoch in range(training_epochs):\n",
        "    avg_cost = 0\n",
        "    total_batch = len(data_loader)\n",
        "\n",
        "    for X,Y in data_loader:\n",
        "        X = X.view(-1, 28*28).to(device)\n",
        "        Y = Y.to(device)\n",
        "\n",
        "        optimizer.zero_grad()\n",
        "        hypothesis = linear(X)\n",
        "        cost = criterion(hypothesis, Y)\n",
        "        cost.backward()\n",
        "        optimizer.step()\n",
        "\n",
        "        avg_cost += cost / total_batch\n",
        "\n",
        "#출력\n",
        "    print('Epoch:', '%04d' % (epoch + 1), 'cost =', '{:.9f}'.format(avg_cost))\n",
        "\n",
        "print('Learning finished')"
      ],
      "execution_count": null,
      "outputs": [
        {
          "output_type": "stream",
          "text": [
            "Epoch: 0001 cost = 0.535468459\n",
            "Epoch: 0002 cost = 0.359274179\n",
            "Epoch: 0003 cost = 0.331187516\n",
            "Epoch: 0004 cost = 0.316578031\n",
            "Epoch: 0005 cost = 0.307158142\n",
            "Epoch: 0006 cost = 0.300180733\n",
            "Epoch: 0007 cost = 0.295130223\n",
            "Epoch: 0008 cost = 0.290851474\n",
            "Epoch: 0009 cost = 0.287417084\n",
            "Epoch: 0010 cost = 0.284379542\n",
            "Epoch: 0011 cost = 0.281825244\n",
            "Epoch: 0012 cost = 0.279800713\n",
            "Epoch: 0013 cost = 0.277808994\n",
            "Epoch: 0014 cost = 0.276154310\n",
            "Epoch: 0015 cost = 0.274440855\n",
            "Learning finished\n"
          ],
          "name": "stdout"
        }
      ]
    }
  ]
}